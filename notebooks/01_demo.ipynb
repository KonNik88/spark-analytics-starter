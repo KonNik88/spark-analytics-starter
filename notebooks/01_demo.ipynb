{
 "cells": [
  {
   "cell_type": "markdown",
   "metadata": {
    "id": "p92rzC-2D71g"
   },
   "source": [
    "# Telco Churn — Spark Demo Notebook\r\n",
    "\r\n",
    "Демо к репозиторию: ETL → фичи → агрегаты.  \r\n",
    "Логика в `src/`, ноут — для быстрых проверок и обзора данн.\r\n",
    "\n"
   ]
  },
  {
   "cell_type": "markdown",
   "metadata": {},
   "source": [
    "## Импорты и конфиг"
   ]
  },
  {
   "cell_type": "code",
   "execution_count": 14,
   "metadata": {},
   "outputs": [],
   "source": [
    "import sys, yaml\n",
    "\n",
    "from copy import deepcopy\n",
    "from pathlib import Path\n",
    "from src.etl import read_table, basic_clean\n",
    "from src.features import add_features, group_report\n",
    "from src.job import main as run_job\n",
    "from src.session import build_spark"
   ]
  },
  {
   "cell_type": "code",
   "execution_count": 6,
   "metadata": {},
   "outputs": [
    {
     "name": "stdout",
     "output_type": "stream",
     "text": [
      "ROOT: D:\\ML\\LS\\MLJ\\Infrastructure_for_ML\\spark-analytics-starter\n",
      "CONFIG exists: True\n"
     ]
    }
   ],
   "source": [
    "# Найти корень репозитория (ищет configs/config.yaml и src/)\n",
    "def find_repo_root(start: Path) -> Path:\n",
    "    for p in [start, *start.parents]:\n",
    "        if (p / \"configs\" / \"config.yaml\").exists() and (p / \"src\").exists():\n",
    "            return p\n",
    "    return start\n",
    "\n",
    "ROOT = find_repo_root(Path.cwd())\n",
    "CONFIG = ROOT / \"configs\" / \"config.yaml\"\n",
    "\n",
    "if str(ROOT) not in sys.path:\n",
    "    sys.path.append(str(ROOT))\n",
    "\n",
    "print(\"ROOT:\", ROOT)\n",
    "print(\"CONFIG exists:\", CONFIG.exists())"
   ]
  },
  {
   "cell_type": "markdown",
   "metadata": {},
   "source": [
    "## старт Spark"
   ]
  },
  {
   "cell_type": "code",
   "execution_count": 7,
   "metadata": {},
   "outputs": [
    {
     "data": {
      "text/html": [
       "\n",
       "            <div>\n",
       "                <p><b>SparkSession - in-memory</b></p>\n",
       "                \n",
       "        <div>\n",
       "            <p><b>SparkContext</b></p>\n",
       "\n",
       "            <p><a href=\"http://DESKTOP-CE2572F:4040\">Spark UI</a></p>\n",
       "\n",
       "            <dl>\n",
       "              <dt>Version</dt>\n",
       "                <dd><code>v3.5.4</code></dd>\n",
       "              <dt>Master</dt>\n",
       "                <dd><code>local[*]</code></dd>\n",
       "              <dt>AppName</dt>\n",
       "                <dd><code>SparkTelcoChurn</code></dd>\n",
       "            </dl>\n",
       "        </div>\n",
       "        \n",
       "            </div>\n",
       "        "
      ],
      "text/plain": [
       "<pyspark.sql.session.SparkSession at 0x1af17063f10>"
      ]
     },
     "execution_count": 7,
     "metadata": {},
     "output_type": "execute_result"
    }
   ],
   "source": [
    "with open(CONFIG, \"r\", encoding=\"utf-8\") as f:\n",
    "    cfg = yaml.safe_load(f)\n",
    "\n",
    "spark = build_spark(\n",
    "    cfg.get(\"app_name\", \"SparkTelcoChurn\"),\n",
    "    cfg.get(\"shuffle_partitions\", 8)\n",
    ")\n",
    "spark"
   ]
  },
  {
   "cell_type": "markdown",
   "metadata": {},
   "source": [
    "## загрузка"
   ]
  },
  {
   "cell_type": "code",
   "execution_count": 10,
   "metadata": {},
   "outputs": [
    {
     "name": "stdout",
     "output_type": "stream",
     "text": [
      "DATA PATH: D:/ML/LS/MLJ/Infrastructure_for_ML/spark-analytics-starter/data/WA_Fn-UseC_-Telco-Customer-Churn.csv\n",
      "rows: 7043\n",
      "root\n",
      " |-- customerID: string (nullable = true)\n",
      " |-- gender: string (nullable = true)\n",
      " |-- SeniorCitizen: integer (nullable = true)\n",
      " |-- Partner: string (nullable = true)\n",
      " |-- Dependents: string (nullable = true)\n",
      " |-- tenure: integer (nullable = true)\n",
      " |-- PhoneService: string (nullable = true)\n",
      " |-- MultipleLines: string (nullable = true)\n",
      " |-- InternetService: string (nullable = true)\n",
      " |-- OnlineSecurity: string (nullable = true)\n",
      " |-- OnlineBackup: string (nullable = true)\n",
      " |-- DeviceProtection: string (nullable = true)\n",
      " |-- TechSupport: string (nullable = true)\n",
      " |-- StreamingTV: string (nullable = true)\n",
      " |-- StreamingMovies: string (nullable = true)\n",
      " |-- Contract: string (nullable = true)\n",
      " |-- PaperlessBilling: string (nullable = true)\n",
      " |-- PaymentMethod: string (nullable = true)\n",
      " |-- MonthlyCharges: double (nullable = true)\n",
      " |-- TotalCharges: string (nullable = true)\n",
      " |-- Churn: string (nullable = true)\n",
      "\n",
      "+----------+------+-------------+-------+----------+------+------------+----------------+---------------+--------------+------------+----------------+-----------+-----------+---------------+--------------+----------------+-------------------------+--------------+------------+-----+\n",
      "|customerID|gender|SeniorCitizen|Partner|Dependents|tenure|PhoneService|MultipleLines   |InternetService|OnlineSecurity|OnlineBackup|DeviceProtection|TechSupport|StreamingTV|StreamingMovies|Contract      |PaperlessBilling|PaymentMethod            |MonthlyCharges|TotalCharges|Churn|\n",
      "+----------+------+-------------+-------+----------+------+------------+----------------+---------------+--------------+------------+----------------+-----------+-----------+---------------+--------------+----------------+-------------------------+--------------+------------+-----+\n",
      "|7590-VHVEG|Female|0            |Yes    |No        |1     |No          |No phone service|DSL            |No            |Yes         |No              |No         |No         |No             |Month-to-month|Yes             |Electronic check         |29.85         |29.85       |No   |\n",
      "|5575-GNVDE|Male  |0            |No     |No        |34    |Yes         |No              |DSL            |Yes           |No          |Yes             |No         |No         |No             |One year      |No              |Mailed check             |56.95         |1889.5      |No   |\n",
      "|3668-QPYBK|Male  |0            |No     |No        |2     |Yes         |No              |DSL            |Yes           |Yes         |No              |No         |No         |No             |Month-to-month|Yes             |Mailed check             |53.85         |108.15      |Yes  |\n",
      "|7795-CFOCW|Male  |0            |No     |No        |45    |No          |No phone service|DSL            |Yes           |No          |Yes             |Yes        |No         |No             |One year      |No              |Bank transfer (automatic)|42.3          |1840.75     |No   |\n",
      "|9237-HQITU|Female|0            |No     |No        |2     |Yes         |No              |Fiber optic    |No            |No          |No              |No         |No         |No             |Month-to-month|Yes             |Electronic check         |70.7          |151.65      |Yes  |\n",
      "+----------+------+-------------+-------+----------+------+------------+----------------+---------------+--------------+------------+----------------+-----------+-----------+---------------+--------------+----------------+-------------------------+--------------+------------+-----+\n",
      "only showing top 5 rows\n",
      "\n"
     ]
    }
   ],
   "source": [
    "data_path = (ROOT / cfg[\"input\"][\"path\"]).resolve().as_posix()\n",
    "print(\"DATA PATH:\", data_path)\n",
    "\n",
    "raw = read_table(\n",
    "    spark,\n",
    "    path=data_path, \n",
    "    fmt=cfg[\"input\"].get(\"fmt\", \"csv\"),\n",
    "    header=cfg[\"input\"].get(\"header\", True),\n",
    "    infer_schema=cfg[\"input\"].get(\"infer_schema\", True),\n",
    ")\n",
    "\n",
    "print(\"rows:\", raw.count())\n",
    "raw.printSchema()\n",
    "raw.show(5, truncate=False)"
   ]
  },
  {
   "cell_type": "markdown",
   "metadata": {},
   "source": [
    "## фичи и быстрые проверки"
   ]
  },
  {
   "cell_type": "code",
   "execution_count": 12,
   "metadata": {},
   "outputs": [
    {
     "name": "stdout",
     "output_type": "stream",
     "text": [
      "root\n",
      " |-- customerID: string (nullable = true)\n",
      " |-- gender: string (nullable = true)\n",
      " |-- SeniorCitizen: integer (nullable = true)\n",
      " |-- Partner: string (nullable = true)\n",
      " |-- Dependents: string (nullable = true)\n",
      " |-- tenure: integer (nullable = true)\n",
      " |-- PhoneService: string (nullable = true)\n",
      " |-- MultipleLines: string (nullable = true)\n",
      " |-- InternetService: string (nullable = true)\n",
      " |-- OnlineSecurity: string (nullable = true)\n",
      " |-- OnlineBackup: string (nullable = true)\n",
      " |-- DeviceProtection: string (nullable = true)\n",
      " |-- TechSupport: string (nullable = true)\n",
      " |-- StreamingTV: string (nullable = true)\n",
      " |-- StreamingMovies: string (nullable = true)\n",
      " |-- Contract: string (nullable = true)\n",
      " |-- PaperlessBilling: string (nullable = true)\n",
      " |-- PaymentMethod: string (nullable = true)\n",
      " |-- MonthlyCharges: double (nullable = true)\n",
      " |-- TotalCharges: string (nullable = true)\n",
      " |-- Churn: string (nullable = true)\n",
      " |-- TotalCharges_double: double (nullable = true)\n",
      " |-- MonthlyCharges_double: double (nullable = true)\n",
      " |-- tenure_int: integer (nullable = true)\n",
      " |-- MonthlyCharges_log1p: double (nullable = true)\n",
      " |-- TotalCharges_log1p: double (nullable = true)\n",
      " |-- TenureBucket: string (nullable = false)\n",
      " |-- MCharges_per_Tenure: double (nullable = true)\n",
      " |-- HasFiber: integer (nullable = false)\n",
      " |-- HasStreamingTV: integer (nullable = false)\n",
      " |-- HasStreamingMovies: integer (nullable = false)\n",
      " |-- HasOnlineSecurity: integer (nullable = false)\n",
      " |-- HasOnlineBackup: integer (nullable = false)\n",
      " |-- HasTechSupport: integer (nullable = false)\n",
      " |-- HasDeviceProtection: integer (nullable = false)\n",
      " |-- HasPhoneService: integer (nullable = false)\n",
      " |-- HasMultipleLines: integer (nullable = false)\n",
      "\n",
      "+--------------+--------------------+------------+-------------------+------------+-------------------+\n",
      "|MonthlyCharges|MonthlyCharges_log1p|TotalCharges|TotalCharges_double|TenureBucket|MCharges_per_Tenure|\n",
      "+--------------+--------------------+------------+-------------------+------------+-------------------+\n",
      "|          70.7|   4.272490747605575|      151.65|             151.65|        0-12|              35.35|\n",
      "|         18.95|  2.9932291433358724|       326.8|              326.8|       13-24|           1.184375|\n",
      "|         39.65|  3.7049988359938197|       39.65|              39.65|        0-12|              39.65|\n",
      "|          99.9|  4.6141299273595635|      7251.7|             7251.7|         49+| 1.3875000000000002|\n",
      "|          69.7|   4.258445572902527|       316.9|              316.9|        0-12| 13.940000000000001|\n",
      "+--------------+--------------------+------------+-------------------+------------+-------------------+\n",
      "only showing top 5 rows\n",
      "\n"
     ]
    }
   ],
   "source": [
    "feat = add_features(basic_clean(raw))\n",
    "feat.printSchema()\n",
    "feat.select(\"MonthlyCharges\",\"MonthlyCharges_log1p\",\"TotalCharges\",\"TotalCharges_double\",\"TenureBucket\",\"MCharges_per_Tenure\").show(5)"
   ]
  },
  {
   "cell_type": "markdown",
   "metadata": {},
   "source": [
    "## отчёт по группам"
   ]
  },
  {
   "cell_type": "code",
   "execution_count": 13,
   "metadata": {},
   "outputs": [
    {
     "name": "stdout",
     "output_type": "stream",
     "text": [
      "+--------------+---------------+-----+----+--------------------------+-------------------------+-------------------------+------------------------+-----------------------+-----------------------+\n",
      "|Contract      |InternetService|Churn|n   |MonthlyCharges_double_mean|MonthlyCharges_double_std|MonthlyCharges_double_p50|TotalCharges_double_mean|TotalCharges_double_std|TotalCharges_double_p50|\n",
      "+--------------+---------------+-----+----+--------------------------+-------------------------+-------------------------+------------------------+-----------------------+-----------------------+\n",
      "|Month-to-month|Fiber optic    |Yes  |1162|86.47332185886413         |11.110322891071286       |85.35                    |1490.2345094664367      |1615.725205175718      |865.55                 |\n",
      "|Month-to-month|Fiber optic    |No   |966 |87.68022774327133         |11.27311682973646        |87.8                     |2546.4803830227743      |1922.8267270195415     |2151.6                 |\n",
      "|Month-to-month|DSL            |No   |829 |51.93148371531966         |13.249190717926437       |51.05                    |1000.6702653799769      |969.102110866382       |659.35                 |\n",
      "|Two year      |No             |No   |633 |21.770063191153252        |2.4906280654801765       |20.35                    |1083.4591560509552      |491.2543094272716      |1128.1                 |\n",
      "|Two year      |DSL            |No   |616 |70.52767857142854         |15.127604154251753       |73.35                    |4278.171522094927       |1568.3252258743755     |4428.45                |\n",
      "|One year      |DSL            |No   |517 |61.19903288201158         |13.914535963458286       |60.95                    |2549.0829787234056      |1302.7679243218595     |2440.25                |\n",
      "|One year      |Fiber optic    |No   |435 |98.09241379310346         |9.460056698117967        |99.25                    |5177.793908045977       |1668.6320626760964     |5347.95                |\n",
      "|Month-to-month|No             |No   |425 |20.46294117647059         |1.5982034603819733       |20.05                    |209.93776470588224      |226.683575287521       |119.3                  |\n",
      "|Two year      |Fiber optic    |No   |398 |104.56042713567845        |9.545011255492238        |106.1                    |6854.585678391959       |1296.9340484693155     |7104.2                 |\n",
      "|Month-to-month|DSL            |Yes  |394 |46.61738578680197         |11.784349219737324       |46.35                    |471.01662436548196      |662.4995452465872      |168.15                 |\n",
      "+--------------+---------------+-----+----+--------------------------+-------------------------+-------------------------+------------------------+-----------------------+-----------------------+\n",
      "only showing top 10 rows\n",
      "\n"
     ]
    }
   ],
   "source": [
    "grp = group_report(feat, tuple(cfg[\"report\"][\"group_by\"]))\n",
    "grp.orderBy(\"n\", ascending=False).show(10, truncate=False)"
   ]
  },
  {
   "cell_type": "markdown",
   "metadata": {},
   "source": [
    "## запуск job из ноута"
   ]
  },
  {
   "cell_type": "code",
   "execution_count": 16,
   "metadata": {},
   "outputs": [
    {
     "data": {
      "text/plain": [
       "['D:/ML/LS/MLJ/Infrastructure_for_ML/spark-analytics-starter/artifacts/features',\n",
       " 'D:/ML/LS/MLJ/Infrastructure_for_ML/spark-analytics-starter/artifacts/report']"
      ]
     },
     "execution_count": 16,
     "metadata": {},
     "output_type": "execute_result"
    }
   ],
   "source": [
    "tmp_cfg = deepcopy(cfg)\n",
    "\n",
    "# Абсолютные пути для input и output\n",
    "tmp_cfg[\"input\"][\"path\"]  = (ROOT / cfg[\"input\"][\"path\"]).resolve().as_posix()\n",
    "tmp_cfg[\"output\"][\"dir\"]  = (ROOT / cfg[\"output\"][\"dir\"]).resolve().as_posix()\n",
    "\n",
    "TMP_CONFIG = ROOT / \"configs\" / \"_tmp_config_abs.yaml\"\n",
    "with open(TMP_CONFIG, \"w\", encoding=\"utf-8\") as f:\n",
    "    yaml.safe_dump(tmp_cfg, f, allow_unicode=True)\n",
    "\n",
    "from src.job import main as run_job\n",
    "run_job(str(TMP_CONFIG))\n",
    "\n",
    "sorted([p.as_posix() for p in (ROOT / \"artifacts\").glob(\"*/\")])"
   ]
  },
  {
   "cell_type": "markdown",
   "metadata": {},
   "source": [
    "## остановка Spark"
   ]
  },
  {
   "cell_type": "code",
   "execution_count": 18,
   "metadata": {},
   "outputs": [],
   "source": [
    "spark.stop()"
   ]
  }
 ],
 "metadata": {
  "colab": {
   "provenance": []
  },
  "kernelspec": {
   "display_name": "Python (PySpark)",
   "language": "python",
   "name": "pyspark_env"
  },
  "language_info": {
   "codemirror_mode": {
    "name": "ipython",
    "version": 3
   },
   "file_extension": ".py",
   "mimetype": "text/x-python",
   "name": "python",
   "nbconvert_exporter": "python",
   "pygments_lexer": "ipython3",
   "version": "3.9.21"
  }
 },
 "nbformat": 4,
 "nbformat_minor": 4
}
